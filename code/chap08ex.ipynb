{
 "cells": [
  {
   "cell_type": "markdown",
   "metadata": {},
   "source": [
    "Chapter 08 Exercise 2"
   ]
  },
  {
   "cell_type": "code",
   "execution_count": 1,
   "metadata": {
    "collapsed": true
   },
   "outputs": [],
   "source": [
    "import thinkstats2 as ts\n",
    "import thinkplot as tp\n",
    "import numpy as np\n",
    "import math"
   ]
  },
  {
   "cell_type": "code",
   "execution_count": 7,
   "metadata": {
    "collapsed": true
   },
   "outputs": [],
   "source": [
    "def RMSE(estimates, actual):\n",
    "    e2 = [(estimate-actual)**2 for estimate in estimates]\n",
    "    mse = np.mean(e2)\n",
    "    return math.sqrt(mse)"
   ]
  },
  {
   "cell_type": "code",
   "execution_count": 8,
   "metadata": {
    "collapsed": true
   },
   "outputs": [],
   "source": [
    "def MeanError(estimates, actual):\n",
    "    errors = [estimate-actual for estimate in estimates]\n",
    "    return np.mean(errors)"
   ]
  },
  {
   "cell_type": "code",
   "execution_count": null,
   "metadata": {
    "collapsed": true
   },
   "outputs": [],
   "source": [
    "def "
   ]
  },
  {
   "cell_type": "code",
   "execution_count": 23,
   "metadata": {
    "collapsed": false
   },
   "outputs": [],
   "source": [
    "def expo_estimate(n, m):\n",
    "    lam = 2\n",
    "    \n",
    "    means = []\n",
    "    medians = []\n",
    "    \n",
    "    for x in range(m):\n",
    "        xs = np.random.exponential(1.0/lam, n)\n",
    "        L = 1/np.mean(xs)\n",
    "        Lm = math.log(2)/ts.Median(xs)\n",
    "        means.append(L)\n",
    "        medians.append(Lm)\n",
    "    \n",
    "    cdf = ts.Cdf(means)\n",
    "    ci = cdf.Percentile(10), cdf.Percentile(90)\n",
    "    \n",
    "    print 'rmse L', round(RMSE(means, lam), 3)\n",
    "    print 'rmse Lm', round(RMSE(medians, lam), 3)\n",
    "    print 'mean error L', round(MeanError(means, lam), 3)\n",
    "    print 'mean error Lm', round(MeanError(medians, lam), 3)\n",
    "    print 'con intvs at 90%', round(ci[0], 3), \"to\" ,round(ci[1], 3)"
   ]
  },
  {
   "cell_type": "code",
   "execution_count": null,
   "metadata": {
    "collapsed": true
   },
   "outputs": [],
   "source": []
  },
  {
   "cell_type": "code",
   "execution_count": 24,
   "metadata": {
    "collapsed": false
   },
   "outputs": [
    {
     "name": "stdout",
     "output_type": "stream",
     "text": [
      "rmse L 0.793\n",
      "rmse Lm 1.781\n",
      "mean error L 0.218\n",
      "mean error Lm 0.673\n",
      "con intvs at 90% 1.436 to 3.157\n"
     ]
    }
   ],
   "source": [
    "expo_estimate(10, 1000)"
   ]
  },
  {
   "cell_type": "code",
   "execution_count": 25,
   "metadata": {
    "collapsed": false
   },
   "outputs": [
    {
     "name": "stdout",
     "output_type": "stream",
     "text": [
      "rmse L 0.395\n",
      "rmse Lm 0.619\n",
      "mean error L 0.062\n",
      "mean error Lm 0.19\n",
      "con intvs at 90% 1.603 to 2.572\n"
     ]
    }
   ],
   "source": [
    "expo_estimate(30, 1000)"
   ]
  },
  {
   "cell_type": "code",
   "execution_count": 26,
   "metadata": {
    "collapsed": false
   },
   "outputs": [
    {
     "name": "stdout",
     "output_type": "stream",
     "text": [
      "rmse L 0.229\n",
      "rmse Lm 0.349\n",
      "mean error L 0.029\n",
      "mean error Lm 0.079\n",
      "con intvs at 90% 1.757 to 2.325\n"
     ]
    }
   ],
   "source": [
    "expo_estimate(80, 1000)"
   ]
  },
  {
   "cell_type": "code",
   "execution_count": null,
   "metadata": {
    "collapsed": true
   },
   "outputs": [],
   "source": []
  }
 ],
 "metadata": {
  "kernelspec": {
   "display_name": "Python 2",
   "language": "python",
   "name": "python2"
  },
  "language_info": {
   "codemirror_mode": {
    "name": "ipython",
    "version": 2
   },
   "file_extension": ".py",
   "mimetype": "text/x-python",
   "name": "python",
   "nbconvert_exporter": "python",
   "pygments_lexer": "ipython2",
   "version": "2.7.10"
  }
 },
 "nbformat": 4,
 "nbformat_minor": 0
}
